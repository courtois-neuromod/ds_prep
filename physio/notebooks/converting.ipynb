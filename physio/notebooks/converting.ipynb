{
 "cells": [
  {
   "cell_type": "markdown",
   "metadata": {},
   "source": [
    "# Segment and Convert  biosignals\n",
    "Segment : cut the different acquisitions recorded in the same file (multi-run recordings).\n",
    "\n",
    "Convert : change the file type (from `.acq` to `.tsv.gz`).\n",
    "\n",
    "\n",
    "#### Dependencies"
   ]
  },
  {
   "cell_type": "code",
   "execution_count": 2,
   "metadata": {},
   "outputs": [],
   "source": [
    "import pandas as pd\n",
    "import numpy as np\n",
    "import os"
   ]
  },
  {
   "cell_type": "code",
   "execution_count": 15,
   "metadata": {},
   "outputs": [],
   "source": [
    "import neurokit2 as nk2\n",
    "import matplotlib.pyplot as plt\n",
    "import seaborn as sns"
   ]
  },
  {
   "cell_type": "code",
   "execution_count": 16,
   "metadata": {},
   "outputs": [
    {
     "name": "stdout",
     "output_type": "stream",
     "text": [
      "Populating the interactive namespace from numpy and matplotlib\n"
     ]
    }
   ],
   "source": [
    "%pylab inline\n",
    "sns.set_style('darkgrid')\n",
    "pylab.rcParams['figure.figsize'] = (12.0, 6.0)  \n",
    "plt.rcParams.update({'font.size': 14})"
   ]
  },
  {
   "cell_type": "markdown",
   "metadata": {},
   "source": [
    "#### import some code"
   ]
  },
  {
   "cell_type": "code",
   "execution_count": 4,
   "metadata": {},
   "outputs": [],
   "source": [
    "%run ./code/conversion/test/convert_seg2hdf.py"
   ]
  },
  {
   "cell_type": "code",
   "execution_count": 5,
   "metadata": {
    "scrolled": true
   },
   "outputs": [
    {
     "name": "stdout",
     "output_type": "stream",
     "text": [
      "usage: get_info.py [-h] [-indir ROOT] [-sub SUB] [-ses SES] [-show SHOW]\n",
      "                   [-save SAVE]\n",
      "\n",
      "Required Argument::\n",
      "  -indir ROOT, --input-directory ROOT\n",
      "                        Specify root directory of dataset\n",
      "  -sub SUB, --subject SUB\n",
      "                        Specify alongside \"-heur\". Code of subject to process.\n",
      "\n",
      "optional arguments:\n",
      "  -h, --help            show this help message and exit\n",
      "  -ses SES, --session SES\n",
      "                        Specify alongside \"-heur\". Code of session to process.\n",
      "  -show SHOW, --show-dict SHOW\n",
      "                        Specify if you want to print dictionary\n",
      "  -save SAVE, --save-dict SAVE\n",
      "                        Specify if you want to save the dictionary\n"
     ]
    }
   ],
   "source": [
    "%run code/utils/get_info.py -h"
   ]
  },
  {
   "cell_type": "markdown",
   "metadata": {},
   "source": [
    "# Segmentation and Conversion\n",
    "\n"
   ]
  },
  {
   "cell_type": "markdown",
   "metadata": {},
   "source": [
    "## `phys2bids` workflow\n",
    "``phys2bids -in <input-file.acq> -chtrig <always-the-same-#> -ntp ### ### ### -tr 1.49 -outdir <root-bids-dir> -heur <path/to/heur.py>``\n",
    "\n",
    "``-ntp`` : number of trigger timepoints listed by runs without brackets\n"
   ]
  },
  {
   "cell_type": "code",
   "execution_count": 6,
   "metadata": {
    "scrolled": true
   },
   "outputs": [
    {
     "name": "stdout",
     "output_type": "stream",
     "text": [
      "list of files for session ses-001 ['sub-01_ses-bournesup01.acq']\n",
      "list of files for session ses-002 ['sub-01_ses-bournesup02.acq']\n",
      "list of files for session ses-003 ['sub-01_ses-wolfofwallstreet1.acq']\n",
      "list of files for session ses-004 ['sub-01_ses-wolfofwallstreet2-3a.acq']\n",
      "list of files for session ses-005 ['sub-01_ses-wolfofwallstreet2-3a.acq']\n",
      "list of files for session ses-006 ['sub-01_ses-wolfofwallstreet.acq', 'sub-01_ses-life1.acq']\n",
      "list of files for session ses-007 []\n",
      "list of files for session ses-008 ['fast sampling rate data2019-05-03T15_41_57.acq']\n",
      "list of files for session ses-009 ['fast sampling rate data2019-05-10T10_22_08.acq', 'fast sampling rate data2019-05-10T11_26_17.acq']\n",
      "list of files for session ses-010 ['neuromod_video52019-05-29T15_39_51.acq']\n",
      "list of files for session ses-011 ['neuromod_video52019-07-03T10_57_27.acq']\n",
      "list of files for session ses-012 ['neuromod_video52019-08-19T15_18_25.acq']\n"
     ]
    }
   ],
   "source": [
    "ls = list_sub('/data/neuromod/DATA/cneuromod/movie10/sourcedata/physio', sub='sub-01', show=True)"
   ]
  },
  {
   "cell_type": "markdown",
   "metadata": {},
   "source": [
    "++#### NOTE : have to keep sub in dataframe so i can group"
   ]
  },
  {
   "cell_type": "code",
   "execution_count": 9,
   "metadata": {},
   "outputs": [],
   "source": [
    "metadata = pd.DataFrame()\n",
    "tmp = pd.read_json(f'/home/francois.lespinasse/physiological-signals/tests/conversion/sub-06/sub-06_volumes_all-ses-runs.json')\n",
    "for ses in tmp:\n",
    "    dict_new = tmp[ses]\n",
    "    metadata = metadata.append(dict_new, ignore_index=True)\n",
    "    \n",
    "metadata_whole = pd.DataFrame()\n",
    "for sub in os.listdir('/home/francois.lespinasse/physiological-signals/tests/conversion/'):\n",
    "    \n",
    "    tmp = pd.read_json(f'/home/francois.lespinasse/physiological-signals/tests/conversion/{sub}/{sub}_volumes_all-ses-runs.json')\n",
    "    \n",
    "    for ses in tmp:\n",
    "        dict_new = tmp[ses]\n",
    "        metadata_whole = metadata_whole.append(dict_new, ignore_index=True)"
   ]
  },
  {
   "cell_type": "markdown",
   "metadata": {},
   "source": [
    "### Number of volumes acquired per run for each sessions | sub-06"
   ]
  },
  {
   "cell_type": "code",
   "execution_count": 10,
   "metadata": {},
   "outputs": [
    {
     "data": {
      "text/html": [
       "<div>\n",
       "<style scoped>\n",
       "    .dataframe tbody tr th:only-of-type {\n",
       "        vertical-align: middle;\n",
       "    }\n",
       "\n",
       "    .dataframe tbody tr th {\n",
       "        vertical-align: top;\n",
       "    }\n",
       "\n",
       "    .dataframe thead th {\n",
       "        text-align: right;\n",
       "    }\n",
       "</style>\n",
       "<table border=\"1\" class=\"dataframe\">\n",
       "  <thead>\n",
       "    <tr style=\"text-align: right;\">\n",
       "      <th></th>\n",
       "      <th>expect_runs</th>\n",
       "      <th>in_file</th>\n",
       "      <th>processed_runs</th>\n",
       "      <th>run-01</th>\n",
       "      <th>run-02</th>\n",
       "      <th>run-03</th>\n",
       "      <th>run-04</th>\n",
       "      <th>run-05</th>\n",
       "      <th>run-06</th>\n",
       "      <th>run-07</th>\n",
       "      <th>run-08</th>\n",
       "      <th>run-09</th>\n",
       "    </tr>\n",
       "  </thead>\n",
       "  <tbody>\n",
       "    <tr>\n",
       "      <td>0</td>\n",
       "      <td>4.0</td>\n",
       "      <td>sourcedata/physio/sub-06/ses-001/neuromod_vide...</td>\n",
       "      <td>4.0</td>\n",
       "      <td>410.0</td>\n",
       "      <td>410.0</td>\n",
       "      <td>410.0</td>\n",
       "      <td>410.0</td>\n",
       "      <td>NaN</td>\n",
       "      <td>NaN</td>\n",
       "      <td>NaN</td>\n",
       "      <td>NaN</td>\n",
       "      <td>NaN</td>\n",
       "    </tr>\n",
       "    <tr>\n",
       "      <td>1</td>\n",
       "      <td>5.0</td>\n",
       "      <td>sourcedata/physio/sub-06/ses-002/neuromod_vide...</td>\n",
       "      <td>5.0</td>\n",
       "      <td>410.0</td>\n",
       "      <td>411.0</td>\n",
       "      <td>409.0</td>\n",
       "      <td>408.0</td>\n",
       "      <td>410.0</td>\n",
       "      <td>NaN</td>\n",
       "      <td>NaN</td>\n",
       "      <td>NaN</td>\n",
       "      <td>NaN</td>\n",
       "    </tr>\n",
       "    <tr>\n",
       "      <td>2</td>\n",
       "      <td>5.0</td>\n",
       "      <td>sourcedata/physio/sub-06/ses-003/neuromod_vide...</td>\n",
       "      <td>5.0</td>\n",
       "      <td>410.0</td>\n",
       "      <td>410.0</td>\n",
       "      <td>410.0</td>\n",
       "      <td>410.0</td>\n",
       "      <td>374.0</td>\n",
       "      <td>NaN</td>\n",
       "      <td>NaN</td>\n",
       "      <td>NaN</td>\n",
       "      <td>NaN</td>\n",
       "    </tr>\n",
       "    <tr>\n",
       "      <td>3</td>\n",
       "      <td>1.0</td>\n",
       "      <td>sourcedata/physio/sub-06/ses-004/neuromod_vide...</td>\n",
       "      <td>1.0</td>\n",
       "      <td>410.0</td>\n",
       "      <td>NaN</td>\n",
       "      <td>NaN</td>\n",
       "      <td>NaN</td>\n",
       "      <td>NaN</td>\n",
       "      <td>NaN</td>\n",
       "      <td>NaN</td>\n",
       "      <td>NaN</td>\n",
       "      <td>NaN</td>\n",
       "    </tr>\n",
       "    <tr>\n",
       "      <td>4</td>\n",
       "      <td>7.0</td>\n",
       "      <td>sourcedata/physio/sub-06/ses-005/neuromod_vide...</td>\n",
       "      <td>7.0</td>\n",
       "      <td>409.0</td>\n",
       "      <td>391.0</td>\n",
       "      <td>403.0</td>\n",
       "      <td>405.0</td>\n",
       "      <td>405.0</td>\n",
       "      <td>405.0</td>\n",
       "      <td>405.0</td>\n",
       "      <td>NaN</td>\n",
       "      <td>NaN</td>\n",
       "    </tr>\n",
       "    <tr>\n",
       "      <td>5</td>\n",
       "      <td>9.0</td>\n",
       "      <td>sourcedata/physio/sub-06/ses-006/neuromod_vide...</td>\n",
       "      <td>9.0</td>\n",
       "      <td>405.0</td>\n",
       "      <td>405.0</td>\n",
       "      <td>405.0</td>\n",
       "      <td>405.0</td>\n",
       "      <td>380.0</td>\n",
       "      <td>404.0</td>\n",
       "      <td>409.0</td>\n",
       "      <td>411.0</td>\n",
       "      <td>409.0</td>\n",
       "    </tr>\n",
       "    <tr>\n",
       "      <td>6</td>\n",
       "      <td>3.0</td>\n",
       "      <td>sourcedata/physio/sub-06/ses-007/neuromod_vide...</td>\n",
       "      <td>3.0</td>\n",
       "      <td>410.0</td>\n",
       "      <td>408.0</td>\n",
       "      <td>409.0</td>\n",
       "      <td>NaN</td>\n",
       "      <td>NaN</td>\n",
       "      <td>NaN</td>\n",
       "      <td>NaN</td>\n",
       "      <td>NaN</td>\n",
       "      <td>NaN</td>\n",
       "    </tr>\n",
       "    <tr>\n",
       "      <td>7</td>\n",
       "      <td>3.0</td>\n",
       "      <td>sourcedata/physio/sub-06/ses-008/neuromod_vide...</td>\n",
       "      <td>3.0</td>\n",
       "      <td>410.0</td>\n",
       "      <td>410.0</td>\n",
       "      <td>373.0</td>\n",
       "      <td>NaN</td>\n",
       "      <td>NaN</td>\n",
       "      <td>NaN</td>\n",
       "      <td>NaN</td>\n",
       "      <td>NaN</td>\n",
       "      <td>NaN</td>\n",
       "    </tr>\n",
       "    <tr>\n",
       "      <td>8</td>\n",
       "      <td>7.0</td>\n",
       "      <td>sourcedata/physio/sub-06/ses-009/neuromod_vide...</td>\n",
       "      <td>7.0</td>\n",
       "      <td>407.0</td>\n",
       "      <td>407.0</td>\n",
       "      <td>407.0</td>\n",
       "      <td>407.0</td>\n",
       "      <td>407.0</td>\n",
       "      <td>407.0</td>\n",
       "      <td>407.0</td>\n",
       "      <td>NaN</td>\n",
       "      <td>NaN</td>\n",
       "    </tr>\n",
       "    <tr>\n",
       "      <td>9</td>\n",
       "      <td>8.0</td>\n",
       "      <td>sourcedata/physio/sub-06/ses-010/neuromod_vide...</td>\n",
       "      <td>8.0</td>\n",
       "      <td>407.0</td>\n",
       "      <td>407.0</td>\n",
       "      <td>407.0</td>\n",
       "      <td>407.0</td>\n",
       "      <td>407.0</td>\n",
       "      <td>407.0</td>\n",
       "      <td>407.0</td>\n",
       "      <td>504.0</td>\n",
       "      <td>NaN</td>\n",
       "    </tr>\n",
       "  </tbody>\n",
       "</table>\n",
       "</div>"
      ],
      "text/plain": [
       "   expect_runs                                            in_file  \\\n",
       "0          4.0  sourcedata/physio/sub-06/ses-001/neuromod_vide...   \n",
       "1          5.0  sourcedata/physio/sub-06/ses-002/neuromod_vide...   \n",
       "2          5.0  sourcedata/physio/sub-06/ses-003/neuromod_vide...   \n",
       "3          1.0  sourcedata/physio/sub-06/ses-004/neuromod_vide...   \n",
       "4          7.0  sourcedata/physio/sub-06/ses-005/neuromod_vide...   \n",
       "5          9.0  sourcedata/physio/sub-06/ses-006/neuromod_vide...   \n",
       "6          3.0  sourcedata/physio/sub-06/ses-007/neuromod_vide...   \n",
       "7          3.0  sourcedata/physio/sub-06/ses-008/neuromod_vide...   \n",
       "8          7.0  sourcedata/physio/sub-06/ses-009/neuromod_vide...   \n",
       "9          8.0  sourcedata/physio/sub-06/ses-010/neuromod_vide...   \n",
       "\n",
       "   processed_runs  run-01  run-02  run-03  run-04  run-05  run-06  run-07  \\\n",
       "0             4.0   410.0   410.0   410.0   410.0     NaN     NaN     NaN   \n",
       "1             5.0   410.0   411.0   409.0   408.0   410.0     NaN     NaN   \n",
       "2             5.0   410.0   410.0   410.0   410.0   374.0     NaN     NaN   \n",
       "3             1.0   410.0     NaN     NaN     NaN     NaN     NaN     NaN   \n",
       "4             7.0   409.0   391.0   403.0   405.0   405.0   405.0   405.0   \n",
       "5             9.0   405.0   405.0   405.0   405.0   380.0   404.0   409.0   \n",
       "6             3.0   410.0   408.0   409.0     NaN     NaN     NaN     NaN   \n",
       "7             3.0   410.0   410.0   373.0     NaN     NaN     NaN     NaN   \n",
       "8             7.0   407.0   407.0   407.0   407.0   407.0   407.0   407.0   \n",
       "9             8.0   407.0   407.0   407.0   407.0   407.0   407.0   407.0   \n",
       "\n",
       "   run-08  run-09  \n",
       "0     NaN     NaN  \n",
       "1     NaN     NaN  \n",
       "2     NaN     NaN  \n",
       "3     NaN     NaN  \n",
       "4     NaN     NaN  \n",
       "5   411.0   409.0  \n",
       "6     NaN     NaN  \n",
       "7     NaN     NaN  \n",
       "8     NaN     NaN  \n",
       "9   504.0     NaN  "
      ]
     },
     "execution_count": 10,
     "metadata": {},
     "output_type": "execute_result"
    }
   ],
   "source": [
    "metadata"
   ]
  },
  {
   "cell_type": "markdown",
   "metadata": {},
   "source": [
    "##### See where there are missing runs for all phys data acquired"
   ]
  },
  {
   "cell_type": "code",
   "execution_count": 38,
   "metadata": {},
   "outputs": [],
   "source": [
    "mismatch = list(np.where(np.array(metadata_whole['expect_runs']-metadata_whole['processed_runs'])>0)[0]\n",
    ")"
   ]
  },
  {
   "cell_type": "code",
   "execution_count": 46,
   "metadata": {},
   "outputs": [
    {
     "name": "stdout",
     "output_type": "stream",
     "text": [
      "22    sourcedata/physio/sub-03/ses-012/neuromod_vide...\n",
      "23    sourcedata/physio/sub-03/ses-013/neuromod_vide...\n",
      "49    sourcedata/physio/sub-02/ses-004/sub-02_ses-bo...\n",
      "55    sourcedata/physio/sub-02/ses-010/neuromod_vide...\n",
      "Name: in_file, dtype: object\n"
     ]
    }
   ],
   "source": [
    "print(metadata_whole['in_file'][mismatch[0:-1]])"
   ]
  },
  {
   "cell_type": "markdown",
   "metadata": {},
   "source": [
    "### homebrewed method"
   ]
  },
  {
   "cell_type": "code",
   "execution_count": 9,
   "metadata": {
    "scrolled": false
   },
   "outputs": [
    {
     "name": "stdout",
     "output_type": "stream",
     "text": [
      "Help on function batch_parse in module __main__:\n",
      "\n",
      "batch_parse(root, subject, ses=None, save_path=None)\n",
      "    Automated signal parsing for biopac recordings following BIDS format.\n",
      "    \n",
      "    Make sure the trigger channel is named \"TTL\" because it is hard-coded\n",
      "    Parameters:\n",
      "    ------------\n",
      "    root : path\n",
      "        main directory containing the biopac data (e.g. /home/user/dataset)\n",
      "    subject : string\n",
      "        name of path for a specific subject (e.g.'sub-03')\n",
      "    ses : string\n",
      "        name of acquisition session. Optional workflow for specific experiment\n",
      "        default is None\n",
      "    save_path: path\n",
      "        root directory of\n",
      "\n"
     ]
    }
   ],
   "source": [
    "help(batch_parse)"
   ]
  }
 ],
 "metadata": {
  "kernelspec": {
   "display_name": "Python 3",
   "language": "python",
   "name": "python3"
  },
  "language_info": {
   "codemirror_mode": {
    "name": "ipython",
    "version": 3
   },
   "file_extension": ".py",
   "mimetype": "text/x-python",
   "name": "python",
   "nbconvert_exporter": "python",
   "pygments_lexer": "ipython3",
   "version": "3.7.4"
  }
 },
 "nbformat": 4,
 "nbformat_minor": 2
}
