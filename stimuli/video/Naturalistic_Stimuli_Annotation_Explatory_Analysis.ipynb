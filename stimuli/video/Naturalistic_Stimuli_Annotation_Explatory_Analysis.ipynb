{
  "cells": [
    {
      "cell_type": "markdown",
      "metadata": {
        "id": "u1rPXQL7TXvi"
      },
      "source": [
        "# Naturalistic Stimuli Language Annotations Exploratory Analysis\n",
        "\n",
        "This notebook is dedicated to uncovering the word and token properties of the CNeuroMod naturalistic stimuli set https://www.cneuromod.ca/gallery/datasets/. \n",
        "\n",
        "The primary objective of this notebook is to analyze the linguistic aspects of the language annotations extracted from the naturalistic stimuli, including word usage, tokens and ngram patterns.\n",
        "\n",
        "To facilitate the analysis, the notebook makes use of functions imported from the `annotations_utils.py` module."
      ]
    },
    {
      "cell_type": "code",
      "execution_count": 1,
      "metadata": {},
      "outputs": [
        {
          "name": "stderr",
          "output_type": "stream",
          "text": [
            "[nltk_data] Downloading package omw-1.4 to /home/isil/nltk_data...\n",
            "[nltk_data]   Package omw-1.4 is already up-to-date!\n",
            "[nltk_data] Downloading package stopwords to /home/isil/nltk_data...\n",
            "[nltk_data]   Package stopwords is already up-to-date!\n",
            "[nltk_data] Downloading package wordnet to /home/isil/nltk_data...\n",
            "[nltk_data]   Package wordnet is already up-to-date!\n"
          ]
        }
      ],
      "source": [
        "from pathlib import Path\n",
        "import pandas as pd\n",
        "from annotations_util import (concat_transcript,word_characteristics , word_statistics, plot_corpus_characteristics, load_json_file, find_outlaw, stopword_statistics, token_statistics, ngram_extractor, generate_ngrams)"
      ]
    },
    {
      "cell_type": "markdown",
      "metadata": {
        "id": "2aT5isTwjT6H"
      },
      "source": [
        "# Load Data\n",
        "Load the annotation json files and fill the required fields depending on the dataset in quest. "
      ]
    },
    {
      "cell_type": "code",
      "execution_count": 2,
      "metadata": {
        "colab": {
          "base_uri": "https://localhost:8080/"
        },
        "id": "QwPfb0wKru_4",
        "outputId": "4528f2e7-b01a-4157-b775-067a80ec243d"
      },
      "outputs": [],
      "source": [
        "# load the annotation json files to concatanate\n",
        "data_dir = \"path_to_the_annotations_directory\"\n",
        "stimuli = \"\"\n",
        "stimuli_set = \"petit_prince.stimuli\"\n",
        "language = \"en\"\n",
        "if stimuli_set == \"movie10.stimuli\":\n",
        "    json_dir = Path(data_dir) / f\"{stimuli_set}\"/ \"language_annotations\" / f\"{stimuli}\"\n",
        "    transcript = concat_transcript(json_dir)\n",
        "elif stimuli_set == \"petit_prince.stimuli\":\n",
        "    json_dir = Path(data_dir) / f\"{stimuli_set}\" / \"language_annotations\"/ f\"{language}\"\n",
        "    transcript = concat_transcript(json_dir)\n",
        "elif stimuli_set == \"narratives.stimuli\":\n",
        "    json_file = Path(data_dir) / f\"{stimuli_set}\"/ \"language_annotations\"/ f\"{stimuli}.json\"\n",
        "    transcript = load_json_file(json_file)"
      ]
    },
    {
      "cell_type": "markdown",
      "metadata": {
        "id": "BkJ04jN2z0gp"
      },
      "source": [
        "# Word Characteristics\n",
        "\n",
        "Below analysis extracts the word counts, unique words, and words with the highest frequency across the seasons. \n",
        "\n",
        "\n",
        "### Total Number of Words"
      ]
    },
    {
      "cell_type": "code",
      "execution_count": 3,
      "metadata": {
        "colab": {
          "base_uri": "https://localhost:8080/"
        },
        "id": "ztd7ve_8Jaqc",
        "outputId": "bb49658f-c69b-4717-bd4f-c210db7aa985"
      },
      "outputs": [
        {
          "name": "stdout",
          "output_type": "stream",
          "text": [
            "The total number of words in  is 15306\n",
            "The total number of unique words in  is 2218\n"
          ]
        }
      ],
      "source": [
        "words, unique_words = word_characteristics(transcript)\n",
        "print(f\"The total number of words in {stimuli} is {len(words)}\")\n",
        "print(\n",
        "    f\"The total number of unique words in {stimuli} is {len(unique_words)}\"\n",
        ")"
      ]
    },
    {
      "cell_type": "markdown",
      "metadata": {
        "id": "d2l72nmldyMb"
      },
      "source": [
        "### Distribution of Words Across Seasons"
      ]
    },
    {
      "cell_type": "code",
      "execution_count": 4,
      "metadata": {
        "id": "XeiAR6Nk-8Wc"
      },
      "outputs": [
        {
          "name": "stdout",
          "output_type": "stream",
          "text": [
            "The list of the frequent words in  are ['the', 'I', 'to', 'a', 'of', 'you', 'little', 'that', 'and', 'he', 'said', 's', 'prince', 'it', 'was', 't', 'in', 'my', 'me', 'And']\n"
          ]
        }
      ],
      "source": [
        "freq_splits, unique_res, frequent_word_list, frequency_word_list, outlaws = word_statistics(transcript)\n",
        "print(f\"The list of the frequent words in {stimuli} are {frequent_word_list}\")\n"
      ]
    },
    {
      "cell_type": "code",
      "execution_count": 5,
      "metadata": {
        "id": "RnggmWRmTTlb"
      },
      "outputs": [
        {
          "data": {
            "image/png": "[encoded data removed]",
            "text/plain": [
              "<Figure size 432x288 with 1 Axes>"
            ]
          },
          "metadata": {
            "needs_background": "light"
          },
          "output_type": "display_data"
        }
      ],
      "source": [
        "word_frequency = pd.DataFrame(\n",
        "    {\"Words\": frequent_word_list, \"Frequency\": frequency_word_list}\n",
        ")\n",
        "plot_corpus_characteristics(word_frequency,\n",
        "                           title = \"Distribution of Most Frequent Words\",\n",
        "                           xlabel=  \"Words\",\n",
        "                           ylabel = \"Number of Words\",\n",
        "                           tilt = True,\n",
        "                           type = \"bar\"\n",
        "                           )"
      ]
    },
    {
      "cell_type": "markdown",
      "metadata": {},
      "source": [
        "### Outlaw Words\n",
        "\n",
        "In everyday conversations, we often use words in various forms to convey our emotions, introducing intonation and prosody to infuse meaning into the text. This distinction sets spoken dialogue apart from written text. In the field of Natural Language Processing (NLP), these words are recognized based on criteria such as excessive repetition of certain vowels or consonants, or the use of non-standard English that relies on the repetition of specific sounds. Thus, \"outlaw words\" are identified based on these criteria.\n",
        "\n",
        "Let's identify the outlaw words in the Friends corpus and how much of the words in a particular season is consisted of outlawed words."
      ]
    },
    {
      "cell_type": "code",
      "execution_count": 6,
      "metadata": {},
      "outputs": [
        {
          "name": "stdout",
          "output_type": "stream",
          "text": [
            "The list of the outlawed words in  are []\n"
          ]
        }
      ],
      "source": [
        "print(f\"The list of the outlawed words in {stimuli} are {outlaws}\")"
      ]
    },
    {
      "cell_type": "markdown",
      "metadata": {
        "id": "pSlsF6WcXjPz"
      },
      "source": [
        "# Token Analysis\n",
        "\n",
        "\n",
        "Tokens are fundamental units of text that serve as the building blocks for natural language processing tasks. They are individual words or symbols extracted from a text document. The process of tokenization involves breaking down a given text into these discrete units, which can include words, punctuation, numbers, or even subword units like word stems or characters. Tokenization is a crucial step in language processing because it enables computers to analyze and manipulate text data effectively, facilitating tasks such as text classification, language modeling, and sentiment analysis.\n",
        "\n",
        "Different tokenization methods are available, each tailored to specific analysis goals. In this analysis, we employ the fundamental byte-pair tokenization technique provided by the `BPEmb - Byte-Pair Encoding (BPE)`` Python package. This particular method has been trained on Wikipedia data."
      ]
    },
    {
      "cell_type": "code",
      "execution_count": 7,
      "metadata": {
        "id": "vaNHWmbIYufY"
      },
      "outputs": [
        {
          "name": "stdout",
          "output_type": "stream",
          "text": [
            "The total number of tokens in  is: 20551\n",
            "The total number of unique tokens in  is: 2063\n"
          ]
        }
      ],
      "source": [
        "tokens, unique_tokens_list, tokens_norm, total_number_of_tokens = token_statistics(transcript)\n",
        "print(f\"The total number of tokens in {stimuli} is: {total_number_of_tokens}\")\n",
        "print(f\"The total number of unique tokens in {stimuli} is: {len(unique_tokens_list)}\")"
      ]
    },
    {
      "cell_type": "code",
      "execution_count": 8,
      "metadata": {
        "colab": {
          "base_uri": "https://localhost:8080/"
        },
        "id": "OI3EdQ5B2EXO",
        "outputId": "4b2eab1c-3746-4d00-8237-90a0666010c3"
      },
      "outputs": [
        {
          "name": "stdout",
          "output_type": "stream",
          "text": [
            "The 50 tokens in first 3 season are ['▁once', ',', '▁when', '▁i', '▁was', '▁six', '▁years', '▁old', ',', '▁i', '▁saw', '▁a', '▁magn', 'ific', 'ent', '▁picture', '▁in', '▁a', '▁book', '▁about', '▁the', '▁prime', 'val', '▁forest', '▁called', '▁real', '▁life', '▁stories', '.', '▁it', '▁showed', '▁a', '▁bo', 'a', '▁const', 'rict', 'or', '▁sw', 'all', 'ow', 'ing', '▁a', '▁wild', '▁animal', '.', '▁here', '▁is', '▁a', '▁copy', '▁of']\n",
            "The 50 lemmatized tokens in first 3  season are ['▁once', ',', '▁when', '▁i', '▁was', '▁six', '▁years', '▁old', ',', '▁i', '▁saw', '▁a', '▁magn', 'ific', 'ent', '▁picture', '▁in', '▁a', '▁book', '▁about', '▁the', '▁prime', 'val', '▁forest', '▁called', '▁real', '▁life', '▁stories', '.', '▁it', '▁showed', '▁a', '▁bo', 'a', '▁const', 'rict', 'or', '▁sw', 'all', 'ow', 'ing', '▁a', '▁wild', '▁animal', '.', '▁here', '▁is', '▁a', '▁copy', '▁of']\n",
            "The 50 unique tokens in first 3  season are ['▁twice', '▁spec', '▁animal', '▁only', '▁sket', '▁information', '▁consequ', 'how', '▁able', 'piece', '▁cab', 'oc', '▁front', '▁stro', '▁sent', 'll', '▁traveled', '▁switch', 'os', 'ive', 'itation', '▁made', '▁mill', '▁loc', '▁depend', '▁tig', '▁lie', '▁seem', '▁reputation', '▁dec', 'rub', 'ctions', '▁stage', 'stand', '▁didn', 'ensity', '▁minutes', '▁entertainment', '▁mountains', '▁entire', 'more', '▁scat', '▁jum', '▁00.', '▁trav', '▁shut', '▁situation', '▁large', '▁or', '▁cour']\n"
          ]
        }
      ],
      "source": [
        "print(f\"The 50 tokens in first 3 season are {tokens[:50]}\")\n",
        "print(f\"The 50 lemmatized tokens in first 3  season are {tokens_norm[:50]}\")\n",
        "print(f\"The 50 unique tokens in first 3  season are {unique_tokens_list[:50]}\")"
      ]
    },
    {
      "cell_type": "markdown",
      "metadata": {
        "id": "2E_l4Bzbn1se"
      },
      "source": [
        "# Common n-grams\n",
        "\n",
        "N-grams constitute simple but yet crucial functionality in processing natural language. It allows models to better capture the contextual information from the text, by helping the model to perform better. \n",
        "\n",
        "That is why understanding the n-gram characteristics of Friends text maintains an essential gain in  understanding their role in the model performance. Then let's investigate what are the n-gram properties in the Friends corpus. \n",
        "\n",
        "Our analysis showcase that discourse markers or filler words in English like \"oh,\" \"yeah,\" \"right,\" and \"well\" constitute the biggest chunk of the unigrams, while phrases like \"come on\", \"no no\", \"I am going to\" appears mant more times in the context."
      ]
    },
    {
      "cell_type": "code",
      "execution_count": 9,
      "metadata": {},
      "outputs": [
        {
          "name": "stdout",
          "output_type": "stream",
          "text": [
            "The 1-grams in  are listed as        word  wordcount\n",
            "0    little        220\n",
            "1      said        154\n",
            "2    prince         88\n",
            "3       one         85\n",
            "4      like         66\n",
            "5   prince.         54\n",
            "6     never         41\n",
            "7    planet         40\n",
            "8      good         39\n",
            "9     would         37\n",
            "10   that's         34\n",
            "11     know         34\n",
            "12      i'm         33\n",
            "13      me.         30\n",
            "14     come         29\n",
            "15      see         29\n",
            "16  prince,         28\n",
            "17   flower         27\n",
            "18      me,         26\n",
            "19    asked         26\n",
            "The 2-grams in  are listed as                 word  wordcount\n",
            "0      little prince         87\n",
            "1     little prince.         53\n",
            "2        said little         44\n",
            "3     little prince,         28\n",
            "4          said fox.         14\n",
            "5      good morning,         13\n",
            "6       asked little         12\n",
            "7      morning, said         11\n",
            "8      good morning.         10\n",
            "9   said geographer.          8\n",
            "10          said me,          7\n",
            "11           one day          7\n",
            "12     lamp lighter.          6\n",
            "13       prince went          6\n",
            "14     conceited man          6\n",
            "15         said him.          6\n",
            "16       prince said          6\n",
            "17   said switchman.          5\n",
            "18     said nothing.          5\n",
            "19     entire world.          5\n",
            "The 3-grams in  are listed as                         word  wordcount\n",
            "0        said little prince.         30\n",
            "1        said little prince,         10\n",
            "2         good morning, said          9\n",
            "3       asked little prince.          9\n",
            "4         little prince went          6\n",
            "5         little prince said          6\n",
            "6       unique entire world.          4\n",
            "7           prince went away          4\n",
            "8       morning, said little          4\n",
            "9         said little prince          4\n",
            "10                 b six one          4\n",
            "11            asteroid b six          4\n",
            "12   brilliantly lit express          3\n",
            "13  little prince, remember.          3\n",
            "14     like hundred thousand          3\n",
            "15        good morning. good          3\n",
            "16     prince. good morning,          3\n",
            "17       little prince. good          3\n",
            "18    came turn lamplighters          3\n",
            "19        said lamp lighter.          3\n",
            "The 4-grams in  are listed as                                  word  wordcount\n",
            "0             little prince went away          4\n",
            "1        morning, said little prince.          4\n",
            "2                  asteroid b six one          4\n",
            "3          prince. good morning, said          3\n",
            "4        little prince. good morning,          3\n",
            "5            said little prince. good          3\n",
            "6             good morning. put lamp.          3\n",
            "7           good morning, said little          3\n",
            "8           500 million little bells.          2\n",
            "9   brilliantly lit express thundered          2\n",
            "10  repeated little prince, remember.          2\n",
            "11         fox, like hundred thousand          2\n",
            "12         often forgotten, said fox.          2\n",
            "13          we're roses. we're roses.          2\n",
            "14        good morning. good morning.          2\n",
            "15           men? asked little prince          2\n",
            "16          said snake. little prince          2\n",
            "17        little prince said himself.          2\n",
            "18        said little prince. there's          2\n",
            "19    understand, said little prince.          2\n"
          ]
        }
      ],
      "source": [
        "mapping = {1:\"uni\", 2:\"bi\", 3:\"tri\", 4:\"four\"}\n",
        "\n",
        "\n",
        "for ngram in range(1,5):\n",
        "    ans_bigram = generate_ngrams(transcript, ngram, 20, tokens_norm)\n",
        "    print(f\"The {ngram}-grams in {stimuli} are listed as {ans_bigram}\")"
      ]
    }
  ],
  "metadata": {
    "colab": {
      "provenance": []
    },
    "kernelspec": {
      "display_name": "Python 3",
      "name": "python3"
    },
    "language_info": {
      "codemirror_mode": {
        "name": "ipython",
        "version": 3
      },
      "file_extension": ".py",
      "mimetype": "text/x-python",
      "name": "python",
      "nbconvert_exporter": "python",
      "pygments_lexer": "ipython3",
      "version": "3.10.12"
    }
  },
  "nbformat": 4,
  "nbformat_minor": 0
}
